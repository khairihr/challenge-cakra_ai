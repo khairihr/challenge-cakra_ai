{
  "nbformat": 4,
  "nbformat_minor": 0,
  "metadata": {
    "colab": {
      "provenance": []
    },
    "kernelspec": {
      "name": "python3",
      "display_name": "Python 3"
    },
    "language_info": {
      "name": "python"
    }
  },
  "cells": [
    {
      "cell_type": "code",
      "execution_count": 299,
      "metadata": {
        "id": "CJ9J714xiHbZ"
      },
      "outputs": [],
      "source": [
        "import pandas as pd\n",
        "import numpy as np\n",
        "from sklearn.preprocessing import LabelEncoder"
      ]
    },
    {
      "cell_type": "markdown",
      "source": [
        "## Preprocessing"
      ],
      "metadata": {
        "id": "jb8yjxjgkHuo"
      }
    },
    {
      "cell_type": "code",
      "source": [
        "jeruk = pd.read_csv('/content/Orange_Quality_Data.csv')"
      ],
      "metadata": {
        "id": "Yt5lptf_iPuG"
      },
      "execution_count": 300,
      "outputs": []
    },
    {
      "cell_type": "code",
      "source": [
        "print(jeruk)"
      ],
      "metadata": {
        "colab": {
          "base_uri": "https://localhost:8080/"
        },
        "id": "3_W3o3b-mfF1",
        "outputId": "73d5f47f-25ef-4444-9480-bc9fb96bf3c9"
      },
      "execution_count": 301,
      "outputs": [
        {
          "output_type": "stream",
          "name": "stdout",
          "text": [
            "     Size (cm)  Weight (g)  Brix (Sweetness)  pH (Acidity)  Softness (1-5)  \\\n",
            "0          7.5         180              12.0           3.2             2.0   \n",
            "1          8.2         220              10.5           3.4             3.0   \n",
            "2          6.8         150              14.0           3.0             1.0   \n",
            "3          9.0         250               8.5           3.8             4.0   \n",
            "4          8.5         210              11.5           3.3             2.5   \n",
            "..         ...         ...               ...           ...             ...   \n",
            "236        8.0         194              10.9           3.6             5.0   \n",
            "237        7.4         275               8.5           3.5             5.0   \n",
            "238        7.5         196              15.7           3.0             3.0   \n",
            "239        7.2         251               9.8           4.3             3.0   \n",
            "240        7.3         282              10.5           2.9             4.0   \n",
            "\n",
            "     HarvestTime (days)  Ripeness (1-5)         Color            Variety  \\\n",
            "0                    10             4.0        Orange           Valencia   \n",
            "1                    14             4.5   Deep Orange              Navel   \n",
            "2                     7             5.0  Light Orange          Cara Cara   \n",
            "3                    21             3.5    Orange-Red       Blood Orange   \n",
            "4                    12             5.0        Orange             Hamlin   \n",
            "..                  ...             ...           ...                ...   \n",
            "236                  13             1.0    Orange-Red          Tangerine   \n",
            "237                  20             5.0  Light Orange  Minneola (Hybrid)   \n",
            "238                  13             3.0   Deep Orange             Temple   \n",
            "239                  23             1.0  Light Orange       Moro (Blood)   \n",
            "240                  21             2.0    Orange-Red              Jaffa   \n",
            "\n",
            "             Blemishes (Y/N)  Quality (1-5)  \n",
            "0                          N            4.0  \n",
            "1                          N            4.5  \n",
            "2                          N            5.0  \n",
            "3                          N            3.5  \n",
            "4                  Y (Minor)            4.5  \n",
            "..                       ...            ...  \n",
            "236                Y (Scars)            5.0  \n",
            "237                        N            4.0  \n",
            "238  Y (Minor Insect Damage)            5.0  \n",
            "239  Y (Minor Insect Damage)            3.0  \n",
            "240                Y (Minor)            4.0  \n",
            "\n",
            "[241 rows x 11 columns]\n"
          ]
        }
      ]
    },
    {
      "cell_type": "code",
      "source": [
        "jeruk.tail(5)"
      ],
      "metadata": {
        "colab": {
          "base_uri": "https://localhost:8080/",
          "height": 206
        },
        "id": "EHoZTWJIiaVx",
        "outputId": "7fd63bc9-e15f-4087-9811-8ebcd026ed8a"
      },
      "execution_count": 302,
      "outputs": [
        {
          "output_type": "execute_result",
          "data": {
            "text/plain": [
              "     Size (cm)  Weight (g)  Brix (Sweetness)  pH (Acidity)  Softness (1-5)  \\\n",
              "236        8.0         194              10.9           3.6             5.0   \n",
              "237        7.4         275               8.5           3.5             5.0   \n",
              "238        7.5         196              15.7           3.0             3.0   \n",
              "239        7.2         251               9.8           4.3             3.0   \n",
              "240        7.3         282              10.5           2.9             4.0   \n",
              "\n",
              "     HarvestTime (days)  Ripeness (1-5)         Color            Variety  \\\n",
              "236                  13             1.0    Orange-Red          Tangerine   \n",
              "237                  20             5.0  Light Orange  Minneola (Hybrid)   \n",
              "238                  13             3.0   Deep Orange             Temple   \n",
              "239                  23             1.0  Light Orange       Moro (Blood)   \n",
              "240                  21             2.0    Orange-Red              Jaffa   \n",
              "\n",
              "             Blemishes (Y/N)  Quality (1-5)  \n",
              "236                Y (Scars)            5.0  \n",
              "237                        N            4.0  \n",
              "238  Y (Minor Insect Damage)            5.0  \n",
              "239  Y (Minor Insect Damage)            3.0  \n",
              "240                Y (Minor)            4.0  "
            ],
            "text/html": [
              "\n",
              "  <div id=\"df-8c89a7ef-45da-4a7b-823b-21d11d046afa\" class=\"colab-df-container\">\n",
              "    <div>\n",
              "<style scoped>\n",
              "    .dataframe tbody tr th:only-of-type {\n",
              "        vertical-align: middle;\n",
              "    }\n",
              "\n",
              "    .dataframe tbody tr th {\n",
              "        vertical-align: top;\n",
              "    }\n",
              "\n",
              "    .dataframe thead th {\n",
              "        text-align: right;\n",
              "    }\n",
              "</style>\n",
              "<table border=\"1\" class=\"dataframe\">\n",
              "  <thead>\n",
              "    <tr style=\"text-align: right;\">\n",
              "      <th></th>\n",
              "      <th>Size (cm)</th>\n",
              "      <th>Weight (g)</th>\n",
              "      <th>Brix (Sweetness)</th>\n",
              "      <th>pH (Acidity)</th>\n",
              "      <th>Softness (1-5)</th>\n",
              "      <th>HarvestTime (days)</th>\n",
              "      <th>Ripeness (1-5)</th>\n",
              "      <th>Color</th>\n",
              "      <th>Variety</th>\n",
              "      <th>Blemishes (Y/N)</th>\n",
              "      <th>Quality (1-5)</th>\n",
              "    </tr>\n",
              "  </thead>\n",
              "  <tbody>\n",
              "    <tr>\n",
              "      <th>236</th>\n",
              "      <td>8.0</td>\n",
              "      <td>194</td>\n",
              "      <td>10.9</td>\n",
              "      <td>3.6</td>\n",
              "      <td>5.0</td>\n",
              "      <td>13</td>\n",
              "      <td>1.0</td>\n",
              "      <td>Orange-Red</td>\n",
              "      <td>Tangerine</td>\n",
              "      <td>Y (Scars)</td>\n",
              "      <td>5.0</td>\n",
              "    </tr>\n",
              "    <tr>\n",
              "      <th>237</th>\n",
              "      <td>7.4</td>\n",
              "      <td>275</td>\n",
              "      <td>8.5</td>\n",
              "      <td>3.5</td>\n",
              "      <td>5.0</td>\n",
              "      <td>20</td>\n",
              "      <td>5.0</td>\n",
              "      <td>Light Orange</td>\n",
              "      <td>Minneola (Hybrid)</td>\n",
              "      <td>N</td>\n",
              "      <td>4.0</td>\n",
              "    </tr>\n",
              "    <tr>\n",
              "      <th>238</th>\n",
              "      <td>7.5</td>\n",
              "      <td>196</td>\n",
              "      <td>15.7</td>\n",
              "      <td>3.0</td>\n",
              "      <td>3.0</td>\n",
              "      <td>13</td>\n",
              "      <td>3.0</td>\n",
              "      <td>Deep Orange</td>\n",
              "      <td>Temple</td>\n",
              "      <td>Y (Minor Insect Damage)</td>\n",
              "      <td>5.0</td>\n",
              "    </tr>\n",
              "    <tr>\n",
              "      <th>239</th>\n",
              "      <td>7.2</td>\n",
              "      <td>251</td>\n",
              "      <td>9.8</td>\n",
              "      <td>4.3</td>\n",
              "      <td>3.0</td>\n",
              "      <td>23</td>\n",
              "      <td>1.0</td>\n",
              "      <td>Light Orange</td>\n",
              "      <td>Moro (Blood)</td>\n",
              "      <td>Y (Minor Insect Damage)</td>\n",
              "      <td>3.0</td>\n",
              "    </tr>\n",
              "    <tr>\n",
              "      <th>240</th>\n",
              "      <td>7.3</td>\n",
              "      <td>282</td>\n",
              "      <td>10.5</td>\n",
              "      <td>2.9</td>\n",
              "      <td>4.0</td>\n",
              "      <td>21</td>\n",
              "      <td>2.0</td>\n",
              "      <td>Orange-Red</td>\n",
              "      <td>Jaffa</td>\n",
              "      <td>Y (Minor)</td>\n",
              "      <td>4.0</td>\n",
              "    </tr>\n",
              "  </tbody>\n",
              "</table>\n",
              "</div>\n",
              "    <div class=\"colab-df-buttons\">\n",
              "\n",
              "  <div class=\"colab-df-container\">\n",
              "    <button class=\"colab-df-convert\" onclick=\"convertToInteractive('df-8c89a7ef-45da-4a7b-823b-21d11d046afa')\"\n",
              "            title=\"Convert this dataframe to an interactive table.\"\n",
              "            style=\"display:none;\">\n",
              "\n",
              "  <svg xmlns=\"http://www.w3.org/2000/svg\" height=\"24px\" viewBox=\"0 -960 960 960\">\n",
              "    <path d=\"M120-120v-720h720v720H120Zm60-500h600v-160H180v160Zm220 220h160v-160H400v160Zm0 220h160v-160H400v160ZM180-400h160v-160H180v160Zm440 0h160v-160H620v160ZM180-180h160v-160H180v160Zm440 0h160v-160H620v160Z\"/>\n",
              "  </svg>\n",
              "    </button>\n",
              "\n",
              "  <style>\n",
              "    .colab-df-container {\n",
              "      display:flex;\n",
              "      gap: 12px;\n",
              "    }\n",
              "\n",
              "    .colab-df-convert {\n",
              "      background-color: #E8F0FE;\n",
              "      border: none;\n",
              "      border-radius: 50%;\n",
              "      cursor: pointer;\n",
              "      display: none;\n",
              "      fill: #1967D2;\n",
              "      height: 32px;\n",
              "      padding: 0 0 0 0;\n",
              "      width: 32px;\n",
              "    }\n",
              "\n",
              "    .colab-df-convert:hover {\n",
              "      background-color: #E2EBFA;\n",
              "      box-shadow: 0px 1px 2px rgba(60, 64, 67, 0.3), 0px 1px 3px 1px rgba(60, 64, 67, 0.15);\n",
              "      fill: #174EA6;\n",
              "    }\n",
              "\n",
              "    .colab-df-buttons div {\n",
              "      margin-bottom: 4px;\n",
              "    }\n",
              "\n",
              "    [theme=dark] .colab-df-convert {\n",
              "      background-color: #3B4455;\n",
              "      fill: #D2E3FC;\n",
              "    }\n",
              "\n",
              "    [theme=dark] .colab-df-convert:hover {\n",
              "      background-color: #434B5C;\n",
              "      box-shadow: 0px 1px 3px 1px rgba(0, 0, 0, 0.15);\n",
              "      filter: drop-shadow(0px 1px 2px rgba(0, 0, 0, 0.3));\n",
              "      fill: #FFFFFF;\n",
              "    }\n",
              "  </style>\n",
              "\n",
              "    <script>\n",
              "      const buttonEl =\n",
              "        document.querySelector('#df-8c89a7ef-45da-4a7b-823b-21d11d046afa button.colab-df-convert');\n",
              "      buttonEl.style.display =\n",
              "        google.colab.kernel.accessAllowed ? 'block' : 'none';\n",
              "\n",
              "      async function convertToInteractive(key) {\n",
              "        const element = document.querySelector('#df-8c89a7ef-45da-4a7b-823b-21d11d046afa');\n",
              "        const dataTable =\n",
              "          await google.colab.kernel.invokeFunction('convertToInteractive',\n",
              "                                                    [key], {});\n",
              "        if (!dataTable) return;\n",
              "\n",
              "        const docLinkHtml = 'Like what you see? Visit the ' +\n",
              "          '<a target=\"_blank\" href=https://colab.research.google.com/notebooks/data_table.ipynb>data table notebook</a>'\n",
              "          + ' to learn more about interactive tables.';\n",
              "        element.innerHTML = '';\n",
              "        dataTable['output_type'] = 'display_data';\n",
              "        await google.colab.output.renderOutput(dataTable, element);\n",
              "        const docLink = document.createElement('div');\n",
              "        docLink.innerHTML = docLinkHtml;\n",
              "        element.appendChild(docLink);\n",
              "      }\n",
              "    </script>\n",
              "  </div>\n",
              "\n",
              "\n",
              "<div id=\"df-b5dd12f5-e9fa-4a27-9742-e4694e21ffbc\">\n",
              "  <button class=\"colab-df-quickchart\" onclick=\"quickchart('df-b5dd12f5-e9fa-4a27-9742-e4694e21ffbc')\"\n",
              "            title=\"Suggest charts\"\n",
              "            style=\"display:none;\">\n",
              "\n",
              "<svg xmlns=\"http://www.w3.org/2000/svg\" height=\"24px\"viewBox=\"0 0 24 24\"\n",
              "     width=\"24px\">\n",
              "    <g>\n",
              "        <path d=\"M19 3H5c-1.1 0-2 .9-2 2v14c0 1.1.9 2 2 2h14c1.1 0 2-.9 2-2V5c0-1.1-.9-2-2-2zM9 17H7v-7h2v7zm4 0h-2V7h2v10zm4 0h-2v-4h2v4z\"/>\n",
              "    </g>\n",
              "</svg>\n",
              "  </button>\n",
              "\n",
              "<style>\n",
              "  .colab-df-quickchart {\n",
              "      --bg-color: #E8F0FE;\n",
              "      --fill-color: #1967D2;\n",
              "      --hover-bg-color: #E2EBFA;\n",
              "      --hover-fill-color: #174EA6;\n",
              "      --disabled-fill-color: #AAA;\n",
              "      --disabled-bg-color: #DDD;\n",
              "  }\n",
              "\n",
              "  [theme=dark] .colab-df-quickchart {\n",
              "      --bg-color: #3B4455;\n",
              "      --fill-color: #D2E3FC;\n",
              "      --hover-bg-color: #434B5C;\n",
              "      --hover-fill-color: #FFFFFF;\n",
              "      --disabled-bg-color: #3B4455;\n",
              "      --disabled-fill-color: #666;\n",
              "  }\n",
              "\n",
              "  .colab-df-quickchart {\n",
              "    background-color: var(--bg-color);\n",
              "    border: none;\n",
              "    border-radius: 50%;\n",
              "    cursor: pointer;\n",
              "    display: none;\n",
              "    fill: var(--fill-color);\n",
              "    height: 32px;\n",
              "    padding: 0;\n",
              "    width: 32px;\n",
              "  }\n",
              "\n",
              "  .colab-df-quickchart:hover {\n",
              "    background-color: var(--hover-bg-color);\n",
              "    box-shadow: 0 1px 2px rgba(60, 64, 67, 0.3), 0 1px 3px 1px rgba(60, 64, 67, 0.15);\n",
              "    fill: var(--button-hover-fill-color);\n",
              "  }\n",
              "\n",
              "  .colab-df-quickchart-complete:disabled,\n",
              "  .colab-df-quickchart-complete:disabled:hover {\n",
              "    background-color: var(--disabled-bg-color);\n",
              "    fill: var(--disabled-fill-color);\n",
              "    box-shadow: none;\n",
              "  }\n",
              "\n",
              "  .colab-df-spinner {\n",
              "    border: 2px solid var(--fill-color);\n",
              "    border-color: transparent;\n",
              "    border-bottom-color: var(--fill-color);\n",
              "    animation:\n",
              "      spin 1s steps(1) infinite;\n",
              "  }\n",
              "\n",
              "  @keyframes spin {\n",
              "    0% {\n",
              "      border-color: transparent;\n",
              "      border-bottom-color: var(--fill-color);\n",
              "      border-left-color: var(--fill-color);\n",
              "    }\n",
              "    20% {\n",
              "      border-color: transparent;\n",
              "      border-left-color: var(--fill-color);\n",
              "      border-top-color: var(--fill-color);\n",
              "    }\n",
              "    30% {\n",
              "      border-color: transparent;\n",
              "      border-left-color: var(--fill-color);\n",
              "      border-top-color: var(--fill-color);\n",
              "      border-right-color: var(--fill-color);\n",
              "    }\n",
              "    40% {\n",
              "      border-color: transparent;\n",
              "      border-right-color: var(--fill-color);\n",
              "      border-top-color: var(--fill-color);\n",
              "    }\n",
              "    60% {\n",
              "      border-color: transparent;\n",
              "      border-right-color: var(--fill-color);\n",
              "    }\n",
              "    80% {\n",
              "      border-color: transparent;\n",
              "      border-right-color: var(--fill-color);\n",
              "      border-bottom-color: var(--fill-color);\n",
              "    }\n",
              "    90% {\n",
              "      border-color: transparent;\n",
              "      border-bottom-color: var(--fill-color);\n",
              "    }\n",
              "  }\n",
              "</style>\n",
              "\n",
              "  <script>\n",
              "    async function quickchart(key) {\n",
              "      const quickchartButtonEl =\n",
              "        document.querySelector('#' + key + ' button');\n",
              "      quickchartButtonEl.disabled = true;  // To prevent multiple clicks.\n",
              "      quickchartButtonEl.classList.add('colab-df-spinner');\n",
              "      try {\n",
              "        const charts = await google.colab.kernel.invokeFunction(\n",
              "            'suggestCharts', [key], {});\n",
              "      } catch (error) {\n",
              "        console.error('Error during call to suggestCharts:', error);\n",
              "      }\n",
              "      quickchartButtonEl.classList.remove('colab-df-spinner');\n",
              "      quickchartButtonEl.classList.add('colab-df-quickchart-complete');\n",
              "    }\n",
              "    (() => {\n",
              "      let quickchartButtonEl =\n",
              "        document.querySelector('#df-b5dd12f5-e9fa-4a27-9742-e4694e21ffbc button');\n",
              "      quickchartButtonEl.style.display =\n",
              "        google.colab.kernel.accessAllowed ? 'block' : 'none';\n",
              "    })();\n",
              "  </script>\n",
              "</div>\n",
              "\n",
              "    </div>\n",
              "  </div>\n"
            ],
            "application/vnd.google.colaboratory.intrinsic+json": {
              "type": "dataframe",
              "summary": "{\n  \"name\": \"jeruk\",\n  \"rows\": 5,\n  \"fields\": [\n    {\n      \"column\": \"Size (cm)\",\n      \"properties\": {\n        \"dtype\": \"number\",\n        \"std\": 0.3114482300479487,\n        \"min\": 7.2,\n        \"max\": 8.0,\n        \"num_unique_values\": 5,\n        \"samples\": [\n          7.4,\n          7.3,\n          7.5\n        ],\n        \"semantic_type\": \"\",\n        \"description\": \"\"\n      }\n    },\n    {\n      \"column\": \"Weight (g)\",\n      \"properties\": {\n        \"dtype\": \"number\",\n        \"std\": 42,\n        \"min\": 194,\n        \"max\": 282,\n        \"num_unique_values\": 5,\n        \"samples\": [\n          275,\n          282,\n          196\n        ],\n        \"semantic_type\": \"\",\n        \"description\": \"\"\n      }\n    },\n    {\n      \"column\": \"Brix (Sweetness)\",\n      \"properties\": {\n        \"dtype\": \"number\",\n        \"std\": 2.738977911557521,\n        \"min\": 8.5,\n        \"max\": 15.7,\n        \"num_unique_values\": 5,\n        \"samples\": [\n          8.5,\n          10.5,\n          15.7\n        ],\n        \"semantic_type\": \"\",\n        \"description\": \"\"\n      }\n    },\n    {\n      \"column\": \"pH (Acidity)\",\n      \"properties\": {\n        \"dtype\": \"number\",\n        \"std\": 0.5594640292279746,\n        \"min\": 2.9,\n        \"max\": 4.3,\n        \"num_unique_values\": 5,\n        \"samples\": [\n          3.5,\n          2.9,\n          3.0\n        ],\n        \"semantic_type\": \"\",\n        \"description\": \"\"\n      }\n    },\n    {\n      \"column\": \"Softness (1-5)\",\n      \"properties\": {\n        \"dtype\": \"number\",\n        \"std\": 1.0,\n        \"min\": 3.0,\n        \"max\": 5.0,\n        \"num_unique_values\": 3,\n        \"samples\": [\n          5.0,\n          3.0,\n          4.0\n        ],\n        \"semantic_type\": \"\",\n        \"description\": \"\"\n      }\n    },\n    {\n      \"column\": \"HarvestTime (days)\",\n      \"properties\": {\n        \"dtype\": \"number\",\n        \"std\": 4,\n        \"min\": 13,\n        \"max\": 23,\n        \"num_unique_values\": 4,\n        \"samples\": [\n          20,\n          21,\n          13\n        ],\n        \"semantic_type\": \"\",\n        \"description\": \"\"\n      }\n    },\n    {\n      \"column\": \"Ripeness (1-5)\",\n      \"properties\": {\n        \"dtype\": \"number\",\n        \"std\": 1.6733200530681511,\n        \"min\": 1.0,\n        \"max\": 5.0,\n        \"num_unique_values\": 4,\n        \"samples\": [\n          5.0,\n          2.0,\n          1.0\n        ],\n        \"semantic_type\": \"\",\n        \"description\": \"\"\n      }\n    },\n    {\n      \"column\": \"Color\",\n      \"properties\": {\n        \"dtype\": \"string\",\n        \"num_unique_values\": 3,\n        \"samples\": [\n          \"Orange-Red\",\n          \"Light Orange\",\n          \"Deep Orange\"\n        ],\n        \"semantic_type\": \"\",\n        \"description\": \"\"\n      }\n    },\n    {\n      \"column\": \"Variety\",\n      \"properties\": {\n        \"dtype\": \"string\",\n        \"num_unique_values\": 5,\n        \"samples\": [\n          \"Minneola (Hybrid)\",\n          \"Jaffa\",\n          \"Temple\"\n        ],\n        \"semantic_type\": \"\",\n        \"description\": \"\"\n      }\n    },\n    {\n      \"column\": \"Blemishes (Y/N)\",\n      \"properties\": {\n        \"dtype\": \"string\",\n        \"num_unique_values\": 4,\n        \"samples\": [\n          \"N\",\n          \"Y (Minor)\",\n          \"Y (Scars)\"\n        ],\n        \"semantic_type\": \"\",\n        \"description\": \"\"\n      }\n    },\n    {\n      \"column\": \"Quality (1-5)\",\n      \"properties\": {\n        \"dtype\": \"number\",\n        \"std\": 0.8366600265340756,\n        \"min\": 3.0,\n        \"max\": 5.0,\n        \"num_unique_values\": 3,\n        \"samples\": [\n          5.0,\n          4.0,\n          3.0\n        ],\n        \"semantic_type\": \"\",\n        \"description\": \"\"\n      }\n    }\n  ]\n}"
            }
          },
          "metadata": {},
          "execution_count": 302
        }
      ]
    },
    {
      "cell_type": "code",
      "source": [
        "jeruk.head(5)"
      ],
      "metadata": {
        "colab": {
          "base_uri": "https://localhost:8080/",
          "height": 206
        },
        "id": "PycGVD-Eif9o",
        "outputId": "3e0920bb-c17a-46b2-d1a4-f30fc9448e88"
      },
      "execution_count": 303,
      "outputs": [
        {
          "output_type": "execute_result",
          "data": {
            "text/plain": [
              "   Size (cm)  Weight (g)  Brix (Sweetness)  pH (Acidity)  Softness (1-5)  \\\n",
              "0        7.5         180              12.0           3.2             2.0   \n",
              "1        8.2         220              10.5           3.4             3.0   \n",
              "2        6.8         150              14.0           3.0             1.0   \n",
              "3        9.0         250               8.5           3.8             4.0   \n",
              "4        8.5         210              11.5           3.3             2.5   \n",
              "\n",
              "   HarvestTime (days)  Ripeness (1-5)         Color       Variety  \\\n",
              "0                  10             4.0        Orange      Valencia   \n",
              "1                  14             4.5   Deep Orange         Navel   \n",
              "2                   7             5.0  Light Orange     Cara Cara   \n",
              "3                  21             3.5    Orange-Red  Blood Orange   \n",
              "4                  12             5.0        Orange        Hamlin   \n",
              "\n",
              "  Blemishes (Y/N)  Quality (1-5)  \n",
              "0               N            4.0  \n",
              "1               N            4.5  \n",
              "2               N            5.0  \n",
              "3               N            3.5  \n",
              "4       Y (Minor)            4.5  "
            ],
            "text/html": [
              "\n",
              "  <div id=\"df-be65ea88-e992-4e62-8e30-18d648691b3b\" class=\"colab-df-container\">\n",
              "    <div>\n",
              "<style scoped>\n",
              "    .dataframe tbody tr th:only-of-type {\n",
              "        vertical-align: middle;\n",
              "    }\n",
              "\n",
              "    .dataframe tbody tr th {\n",
              "        vertical-align: top;\n",
              "    }\n",
              "\n",
              "    .dataframe thead th {\n",
              "        text-align: right;\n",
              "    }\n",
              "</style>\n",
              "<table border=\"1\" class=\"dataframe\">\n",
              "  <thead>\n",
              "    <tr style=\"text-align: right;\">\n",
              "      <th></th>\n",
              "      <th>Size (cm)</th>\n",
              "      <th>Weight (g)</th>\n",
              "      <th>Brix (Sweetness)</th>\n",
              "      <th>pH (Acidity)</th>\n",
              "      <th>Softness (1-5)</th>\n",
              "      <th>HarvestTime (days)</th>\n",
              "      <th>Ripeness (1-5)</th>\n",
              "      <th>Color</th>\n",
              "      <th>Variety</th>\n",
              "      <th>Blemishes (Y/N)</th>\n",
              "      <th>Quality (1-5)</th>\n",
              "    </tr>\n",
              "  </thead>\n",
              "  <tbody>\n",
              "    <tr>\n",
              "      <th>0</th>\n",
              "      <td>7.5</td>\n",
              "      <td>180</td>\n",
              "      <td>12.0</td>\n",
              "      <td>3.2</td>\n",
              "      <td>2.0</td>\n",
              "      <td>10</td>\n",
              "      <td>4.0</td>\n",
              "      <td>Orange</td>\n",
              "      <td>Valencia</td>\n",
              "      <td>N</td>\n",
              "      <td>4.0</td>\n",
              "    </tr>\n",
              "    <tr>\n",
              "      <th>1</th>\n",
              "      <td>8.2</td>\n",
              "      <td>220</td>\n",
              "      <td>10.5</td>\n",
              "      <td>3.4</td>\n",
              "      <td>3.0</td>\n",
              "      <td>14</td>\n",
              "      <td>4.5</td>\n",
              "      <td>Deep Orange</td>\n",
              "      <td>Navel</td>\n",
              "      <td>N</td>\n",
              "      <td>4.5</td>\n",
              "    </tr>\n",
              "    <tr>\n",
              "      <th>2</th>\n",
              "      <td>6.8</td>\n",
              "      <td>150</td>\n",
              "      <td>14.0</td>\n",
              "      <td>3.0</td>\n",
              "      <td>1.0</td>\n",
              "      <td>7</td>\n",
              "      <td>5.0</td>\n",
              "      <td>Light Orange</td>\n",
              "      <td>Cara Cara</td>\n",
              "      <td>N</td>\n",
              "      <td>5.0</td>\n",
              "    </tr>\n",
              "    <tr>\n",
              "      <th>3</th>\n",
              "      <td>9.0</td>\n",
              "      <td>250</td>\n",
              "      <td>8.5</td>\n",
              "      <td>3.8</td>\n",
              "      <td>4.0</td>\n",
              "      <td>21</td>\n",
              "      <td>3.5</td>\n",
              "      <td>Orange-Red</td>\n",
              "      <td>Blood Orange</td>\n",
              "      <td>N</td>\n",
              "      <td>3.5</td>\n",
              "    </tr>\n",
              "    <tr>\n",
              "      <th>4</th>\n",
              "      <td>8.5</td>\n",
              "      <td>210</td>\n",
              "      <td>11.5</td>\n",
              "      <td>3.3</td>\n",
              "      <td>2.5</td>\n",
              "      <td>12</td>\n",
              "      <td>5.0</td>\n",
              "      <td>Orange</td>\n",
              "      <td>Hamlin</td>\n",
              "      <td>Y (Minor)</td>\n",
              "      <td>4.5</td>\n",
              "    </tr>\n",
              "  </tbody>\n",
              "</table>\n",
              "</div>\n",
              "    <div class=\"colab-df-buttons\">\n",
              "\n",
              "  <div class=\"colab-df-container\">\n",
              "    <button class=\"colab-df-convert\" onclick=\"convertToInteractive('df-be65ea88-e992-4e62-8e30-18d648691b3b')\"\n",
              "            title=\"Convert this dataframe to an interactive table.\"\n",
              "            style=\"display:none;\">\n",
              "\n",
              "  <svg xmlns=\"http://www.w3.org/2000/svg\" height=\"24px\" viewBox=\"0 -960 960 960\">\n",
              "    <path d=\"M120-120v-720h720v720H120Zm60-500h600v-160H180v160Zm220 220h160v-160H400v160Zm0 220h160v-160H400v160ZM180-400h160v-160H180v160Zm440 0h160v-160H620v160ZM180-180h160v-160H180v160Zm440 0h160v-160H620v160Z\"/>\n",
              "  </svg>\n",
              "    </button>\n",
              "\n",
              "  <style>\n",
              "    .colab-df-container {\n",
              "      display:flex;\n",
              "      gap: 12px;\n",
              "    }\n",
              "\n",
              "    .colab-df-convert {\n",
              "      background-color: #E8F0FE;\n",
              "      border: none;\n",
              "      border-radius: 50%;\n",
              "      cursor: pointer;\n",
              "      display: none;\n",
              "      fill: #1967D2;\n",
              "      height: 32px;\n",
              "      padding: 0 0 0 0;\n",
              "      width: 32px;\n",
              "    }\n",
              "\n",
              "    .colab-df-convert:hover {\n",
              "      background-color: #E2EBFA;\n",
              "      box-shadow: 0px 1px 2px rgba(60, 64, 67, 0.3), 0px 1px 3px 1px rgba(60, 64, 67, 0.15);\n",
              "      fill: #174EA6;\n",
              "    }\n",
              "\n",
              "    .colab-df-buttons div {\n",
              "      margin-bottom: 4px;\n",
              "    }\n",
              "\n",
              "    [theme=dark] .colab-df-convert {\n",
              "      background-color: #3B4455;\n",
              "      fill: #D2E3FC;\n",
              "    }\n",
              "\n",
              "    [theme=dark] .colab-df-convert:hover {\n",
              "      background-color: #434B5C;\n",
              "      box-shadow: 0px 1px 3px 1px rgba(0, 0, 0, 0.15);\n",
              "      filter: drop-shadow(0px 1px 2px rgba(0, 0, 0, 0.3));\n",
              "      fill: #FFFFFF;\n",
              "    }\n",
              "  </style>\n",
              "\n",
              "    <script>\n",
              "      const buttonEl =\n",
              "        document.querySelector('#df-be65ea88-e992-4e62-8e30-18d648691b3b button.colab-df-convert');\n",
              "      buttonEl.style.display =\n",
              "        google.colab.kernel.accessAllowed ? 'block' : 'none';\n",
              "\n",
              "      async function convertToInteractive(key) {\n",
              "        const element = document.querySelector('#df-be65ea88-e992-4e62-8e30-18d648691b3b');\n",
              "        const dataTable =\n",
              "          await google.colab.kernel.invokeFunction('convertToInteractive',\n",
              "                                                    [key], {});\n",
              "        if (!dataTable) return;\n",
              "\n",
              "        const docLinkHtml = 'Like what you see? Visit the ' +\n",
              "          '<a target=\"_blank\" href=https://colab.research.google.com/notebooks/data_table.ipynb>data table notebook</a>'\n",
              "          + ' to learn more about interactive tables.';\n",
              "        element.innerHTML = '';\n",
              "        dataTable['output_type'] = 'display_data';\n",
              "        await google.colab.output.renderOutput(dataTable, element);\n",
              "        const docLink = document.createElement('div');\n",
              "        docLink.innerHTML = docLinkHtml;\n",
              "        element.appendChild(docLink);\n",
              "      }\n",
              "    </script>\n",
              "  </div>\n",
              "\n",
              "\n",
              "<div id=\"df-f4d49896-cc13-49bb-90fd-7f72fd082529\">\n",
              "  <button class=\"colab-df-quickchart\" onclick=\"quickchart('df-f4d49896-cc13-49bb-90fd-7f72fd082529')\"\n",
              "            title=\"Suggest charts\"\n",
              "            style=\"display:none;\">\n",
              "\n",
              "<svg xmlns=\"http://www.w3.org/2000/svg\" height=\"24px\"viewBox=\"0 0 24 24\"\n",
              "     width=\"24px\">\n",
              "    <g>\n",
              "        <path d=\"M19 3H5c-1.1 0-2 .9-2 2v14c0 1.1.9 2 2 2h14c1.1 0 2-.9 2-2V5c0-1.1-.9-2-2-2zM9 17H7v-7h2v7zm4 0h-2V7h2v10zm4 0h-2v-4h2v4z\"/>\n",
              "    </g>\n",
              "</svg>\n",
              "  </button>\n",
              "\n",
              "<style>\n",
              "  .colab-df-quickchart {\n",
              "      --bg-color: #E8F0FE;\n",
              "      --fill-color: #1967D2;\n",
              "      --hover-bg-color: #E2EBFA;\n",
              "      --hover-fill-color: #174EA6;\n",
              "      --disabled-fill-color: #AAA;\n",
              "      --disabled-bg-color: #DDD;\n",
              "  }\n",
              "\n",
              "  [theme=dark] .colab-df-quickchart {\n",
              "      --bg-color: #3B4455;\n",
              "      --fill-color: #D2E3FC;\n",
              "      --hover-bg-color: #434B5C;\n",
              "      --hover-fill-color: #FFFFFF;\n",
              "      --disabled-bg-color: #3B4455;\n",
              "      --disabled-fill-color: #666;\n",
              "  }\n",
              "\n",
              "  .colab-df-quickchart {\n",
              "    background-color: var(--bg-color);\n",
              "    border: none;\n",
              "    border-radius: 50%;\n",
              "    cursor: pointer;\n",
              "    display: none;\n",
              "    fill: var(--fill-color);\n",
              "    height: 32px;\n",
              "    padding: 0;\n",
              "    width: 32px;\n",
              "  }\n",
              "\n",
              "  .colab-df-quickchart:hover {\n",
              "    background-color: var(--hover-bg-color);\n",
              "    box-shadow: 0 1px 2px rgba(60, 64, 67, 0.3), 0 1px 3px 1px rgba(60, 64, 67, 0.15);\n",
              "    fill: var(--button-hover-fill-color);\n",
              "  }\n",
              "\n",
              "  .colab-df-quickchart-complete:disabled,\n",
              "  .colab-df-quickchart-complete:disabled:hover {\n",
              "    background-color: var(--disabled-bg-color);\n",
              "    fill: var(--disabled-fill-color);\n",
              "    box-shadow: none;\n",
              "  }\n",
              "\n",
              "  .colab-df-spinner {\n",
              "    border: 2px solid var(--fill-color);\n",
              "    border-color: transparent;\n",
              "    border-bottom-color: var(--fill-color);\n",
              "    animation:\n",
              "      spin 1s steps(1) infinite;\n",
              "  }\n",
              "\n",
              "  @keyframes spin {\n",
              "    0% {\n",
              "      border-color: transparent;\n",
              "      border-bottom-color: var(--fill-color);\n",
              "      border-left-color: var(--fill-color);\n",
              "    }\n",
              "    20% {\n",
              "      border-color: transparent;\n",
              "      border-left-color: var(--fill-color);\n",
              "      border-top-color: var(--fill-color);\n",
              "    }\n",
              "    30% {\n",
              "      border-color: transparent;\n",
              "      border-left-color: var(--fill-color);\n",
              "      border-top-color: var(--fill-color);\n",
              "      border-right-color: var(--fill-color);\n",
              "    }\n",
              "    40% {\n",
              "      border-color: transparent;\n",
              "      border-right-color: var(--fill-color);\n",
              "      border-top-color: var(--fill-color);\n",
              "    }\n",
              "    60% {\n",
              "      border-color: transparent;\n",
              "      border-right-color: var(--fill-color);\n",
              "    }\n",
              "    80% {\n",
              "      border-color: transparent;\n",
              "      border-right-color: var(--fill-color);\n",
              "      border-bottom-color: var(--fill-color);\n",
              "    }\n",
              "    90% {\n",
              "      border-color: transparent;\n",
              "      border-bottom-color: var(--fill-color);\n",
              "    }\n",
              "  }\n",
              "</style>\n",
              "\n",
              "  <script>\n",
              "    async function quickchart(key) {\n",
              "      const quickchartButtonEl =\n",
              "        document.querySelector('#' + key + ' button');\n",
              "      quickchartButtonEl.disabled = true;  // To prevent multiple clicks.\n",
              "      quickchartButtonEl.classList.add('colab-df-spinner');\n",
              "      try {\n",
              "        const charts = await google.colab.kernel.invokeFunction(\n",
              "            'suggestCharts', [key], {});\n",
              "      } catch (error) {\n",
              "        console.error('Error during call to suggestCharts:', error);\n",
              "      }\n",
              "      quickchartButtonEl.classList.remove('colab-df-spinner');\n",
              "      quickchartButtonEl.classList.add('colab-df-quickchart-complete');\n",
              "    }\n",
              "    (() => {\n",
              "      let quickchartButtonEl =\n",
              "        document.querySelector('#df-f4d49896-cc13-49bb-90fd-7f72fd082529 button');\n",
              "      quickchartButtonEl.style.display =\n",
              "        google.colab.kernel.accessAllowed ? 'block' : 'none';\n",
              "    })();\n",
              "  </script>\n",
              "</div>\n",
              "\n",
              "    </div>\n",
              "  </div>\n"
            ],
            "application/vnd.google.colaboratory.intrinsic+json": {
              "type": "dataframe",
              "variable_name": "jeruk",
              "summary": "{\n  \"name\": \"jeruk\",\n  \"rows\": 241,\n  \"fields\": [\n    {\n      \"column\": \"Size (cm)\",\n      \"properties\": {\n        \"dtype\": \"number\",\n        \"std\": 1.086001873458924,\n        \"min\": 6.0,\n        \"max\": 10.0,\n        \"num_unique_values\": 41,\n        \"samples\": [\n          8.3,\n          9.2,\n          8.8\n        ],\n        \"semantic_type\": \"\",\n        \"description\": \"\"\n      }\n    },\n    {\n      \"column\": \"Weight (g)\",\n      \"properties\": {\n        \"dtype\": \"number\",\n        \"std\": 56,\n        \"min\": 100,\n        \"max\": 300,\n        \"num_unique_values\": 131,\n        \"samples\": [\n          279,\n          100,\n          170\n        ],\n        \"semantic_type\": \"\",\n        \"description\": \"\"\n      }\n    },\n    {\n      \"column\": \"Brix (Sweetness)\",\n      \"properties\": {\n        \"dtype\": \"number\",\n        \"std\": 2.7604460846836623,\n        \"min\": 5.5,\n        \"max\": 16.0,\n        \"num_unique_values\": 82,\n        \"samples\": [\n          6.8,\n          12.0,\n          15.0\n        ],\n        \"semantic_type\": \"\",\n        \"description\": \"\"\n      }\n    },\n    {\n      \"column\": \"pH (Acidity)\",\n      \"properties\": {\n        \"dtype\": \"number\",\n        \"std\": 0.42100739111662544,\n        \"min\": 2.8,\n        \"max\": 4.4,\n        \"num_unique_values\": 44,\n        \"samples\": [\n          4.37,\n          3.53,\n          3.67\n        ],\n        \"semantic_type\": \"\",\n        \"description\": \"\"\n      }\n    },\n    {\n      \"column\": \"Softness (1-5)\",\n      \"properties\": {\n        \"dtype\": \"number\",\n        \"std\": 1.323630193054996,\n        \"min\": 1.0,\n        \"max\": 5.0,\n        \"num_unique_values\": 9,\n        \"samples\": [\n          5.0,\n          3.0,\n          3.5\n        ],\n        \"semantic_type\": \"\",\n        \"description\": \"\"\n      }\n    },\n    {\n      \"column\": \"HarvestTime (days)\",\n      \"properties\": {\n        \"dtype\": \"number\",\n        \"std\": 5,\n        \"min\": 4,\n        \"max\": 25,\n        \"num_unique_values\": 22,\n        \"samples\": [\n          10,\n          20,\n          18\n        ],\n        \"semantic_type\": \"\",\n        \"description\": \"\"\n      }\n    },\n    {\n      \"column\": \"Ripeness (1-5)\",\n      \"properties\": {\n        \"dtype\": \"number\",\n        \"std\": 1.2052142937154087,\n        \"min\": 1.0,\n        \"max\": 5.0,\n        \"num_unique_values\": 8,\n        \"samples\": [\n          4.5,\n          3.0,\n          4.0\n        ],\n        \"semantic_type\": \"\",\n        \"description\": \"\"\n      }\n    },\n    {\n      \"column\": \"Color\",\n      \"properties\": {\n        \"dtype\": \"category\",\n        \"num_unique_values\": 5,\n        \"samples\": [\n          \"Deep Orange\",\n          \"Yellow-Orange\",\n          \"Light Orange\"\n        ],\n        \"semantic_type\": \"\",\n        \"description\": \"\"\n      }\n    },\n    {\n      \"column\": \"Variety\",\n      \"properties\": {\n        \"dtype\": \"category\",\n        \"num_unique_values\": 24,\n        \"samples\": [\n          \"Jaffa\",\n          \"Navel (Late Season)\",\n          \"Valencia\"\n        ],\n        \"semantic_type\": \"\",\n        \"description\": \"\"\n      }\n    },\n    {\n      \"column\": \"Blemishes (Y/N)\",\n      \"properties\": {\n        \"dtype\": \"category\",\n        \"num_unique_values\": 12,\n        \"samples\": [\n          \"N (Minor)\",\n          \"Y (Bruising)\",\n          \"N\"\n        ],\n        \"semantic_type\": \"\",\n        \"description\": \"\"\n      }\n    },\n    {\n      \"column\": \"Quality (1-5)\",\n      \"properties\": {\n        \"dtype\": \"number\",\n        \"std\": 1.0144103479757207,\n        \"min\": 1.0,\n        \"max\": 5.0,\n        \"num_unique_values\": 8,\n        \"samples\": [\n          4.5,\n          3.0,\n          4.0\n        ],\n        \"semantic_type\": \"\",\n        \"description\": \"\"\n      }\n    }\n  ]\n}"
            }
          },
          "metadata": {},
          "execution_count": 303
        }
      ]
    },
    {
      "cell_type": "code",
      "source": [
        "jeruk.info()"
      ],
      "metadata": {
        "colab": {
          "base_uri": "https://localhost:8080/"
        },
        "id": "WpngpnlLimsT",
        "outputId": "837065e0-f754-4af9-c0fb-d424f3411ebe"
      },
      "execution_count": 304,
      "outputs": [
        {
          "output_type": "stream",
          "name": "stdout",
          "text": [
            "<class 'pandas.core.frame.DataFrame'>\n",
            "RangeIndex: 241 entries, 0 to 240\n",
            "Data columns (total 11 columns):\n",
            " #   Column              Non-Null Count  Dtype  \n",
            "---  ------              --------------  -----  \n",
            " 0   Size (cm)           241 non-null    float64\n",
            " 1   Weight (g)          241 non-null    int64  \n",
            " 2   Brix (Sweetness)    241 non-null    float64\n",
            " 3   pH (Acidity)        241 non-null    float64\n",
            " 4   Softness (1-5)      241 non-null    float64\n",
            " 5   HarvestTime (days)  241 non-null    int64  \n",
            " 6   Ripeness (1-5)      241 non-null    float64\n",
            " 7   Color               241 non-null    object \n",
            " 8   Variety             241 non-null    object \n",
            " 9   Blemishes (Y/N)     241 non-null    object \n",
            " 10  Quality (1-5)       241 non-null    float64\n",
            "dtypes: float64(6), int64(2), object(3)\n",
            "memory usage: 20.8+ KB\n"
          ]
        }
      ]
    },
    {
      "cell_type": "code",
      "source": [
        "print(jeruk.isnull().sum())"
      ],
      "metadata": {
        "colab": {
          "base_uri": "https://localhost:8080/"
        },
        "id": "AF6JxdiCixDy",
        "outputId": "f1af6bac-9933-4915-b62e-bbc9a0e994a0"
      },
      "execution_count": 305,
      "outputs": [
        {
          "output_type": "stream",
          "name": "stdout",
          "text": [
            "Size (cm)             0\n",
            "Weight (g)            0\n",
            "Brix (Sweetness)      0\n",
            "pH (Acidity)          0\n",
            "Softness (1-5)        0\n",
            "HarvestTime (days)    0\n",
            "Ripeness (1-5)        0\n",
            "Color                 0\n",
            "Variety               0\n",
            "Blemishes (Y/N)       0\n",
            "Quality (1-5)         0\n",
            "dtype: int64\n"
          ]
        }
      ]
    },
    {
      "cell_type": "code",
      "source": [
        "print(jeruk.duplicated())"
      ],
      "metadata": {
        "colab": {
          "base_uri": "https://localhost:8080/"
        },
        "id": "Trm0c9Dli5EL",
        "outputId": "bb9b1e8a-30c2-40a1-8a9d-290c60b048eb"
      },
      "execution_count": 306,
      "outputs": [
        {
          "output_type": "stream",
          "name": "stdout",
          "text": [
            "0      False\n",
            "1      False\n",
            "2      False\n",
            "3      False\n",
            "4      False\n",
            "       ...  \n",
            "236    False\n",
            "237    False\n",
            "238    False\n",
            "239    False\n",
            "240    False\n",
            "Length: 241, dtype: bool\n"
          ]
        }
      ]
    },
    {
      "cell_type": "code",
      "source": [
        "jeruk.duplicated().sum()"
      ],
      "metadata": {
        "colab": {
          "base_uri": "https://localhost:8080/"
        },
        "id": "XQH-V8xijAyj",
        "outputId": "b96d7a4d-091a-4f73-fb76-df77519caeb3"
      },
      "execution_count": 307,
      "outputs": [
        {
          "output_type": "execute_result",
          "data": {
            "text/plain": [
              "0"
            ]
          },
          "metadata": {},
          "execution_count": 307
        }
      ]
    },
    {
      "cell_type": "markdown",
      "source": [
        "## Feature Engineering"
      ],
      "metadata": {
        "id": "wosDQpjwo7ya"
      }
    },
    {
      "cell_type": "code",
      "source": [
        "jeruk['Kepadatan'] = jeruk['Weight (g)'] / (jeruk['Size (cm)'] + 1e-6)\n",
        "print(jeruk['Kepadatan'])"
      ],
      "metadata": {
        "colab": {
          "base_uri": "https://localhost:8080/"
        },
        "id": "xyNJR2PUn3nc",
        "outputId": "c973e763-4ce9-4796-d5b2-c7d16d9498d6"
      },
      "execution_count": 308,
      "outputs": [
        {
          "output_type": "stream",
          "name": "stdout",
          "text": [
            "0      23.999997\n",
            "1      26.829265\n",
            "2      22.058820\n",
            "3      27.777775\n",
            "4      24.705879\n",
            "         ...    \n",
            "236    24.249997\n",
            "237    37.162157\n",
            "238    26.133330\n",
            "239    34.861106\n",
            "240    38.630132\n",
            "Name: Kepadatan, Length: 241, dtype: float64\n"
          ]
        }
      ]
    },
    {
      "cell_type": "code",
      "source": [
        "jeruk['Manis_Asam'] = jeruk['Brix (Sweetness)'] / (jeruk['pH (Acidity)'] + 1e-6)\n",
        "print(jeruk['Manis_Asam'])"
      ],
      "metadata": {
        "colab": {
          "base_uri": "https://localhost:8080/"
        },
        "id": "B8fxw3JsoG6r",
        "outputId": "94423d28-266b-4e2f-a9d8-13ced19e31b6"
      },
      "execution_count": 309,
      "outputs": [
        {
          "output_type": "stream",
          "name": "stdout",
          "text": [
            "0      3.749999\n",
            "1      3.088234\n",
            "2      4.666665\n",
            "3      2.236842\n",
            "4      3.484847\n",
            "         ...   \n",
            "236    3.027777\n",
            "237    2.428571\n",
            "238    5.233332\n",
            "239    2.279069\n",
            "240    3.620688\n",
            "Name: Manis_Asam, Length: 241, dtype: float64\n"
          ]
        }
      ]
    },
    {
      "cell_type": "code",
      "source": [
        "jeruk['Size (cm)'] = jeruk['Size (cm)'].fillna(jeruk['Size (cm)'].mean())"
      ],
      "metadata": {
        "id": "3mcXTm3YjEwo"
      },
      "execution_count": 310,
      "outputs": []
    },
    {
      "cell_type": "code",
      "source": [
        "print(jeruk['Size (cm)'])"
      ],
      "metadata": {
        "colab": {
          "base_uri": "https://localhost:8080/"
        },
        "id": "ZlKR_r9Fl_Dl",
        "outputId": "37ba0020-12f6-45a2-a680-948167f56ac7"
      },
      "execution_count": 311,
      "outputs": [
        {
          "output_type": "stream",
          "name": "stdout",
          "text": [
            "0      7.5\n",
            "1      8.2\n",
            "2      6.8\n",
            "3      9.0\n",
            "4      8.5\n",
            "      ... \n",
            "236    8.0\n",
            "237    7.4\n",
            "238    7.5\n",
            "239    7.2\n",
            "240    7.3\n",
            "Name: Size (cm), Length: 241, dtype: float64\n"
          ]
        }
      ]
    },
    {
      "cell_type": "code",
      "source": [
        "jeruk['Color'] = jeruk['Color'].fillna(jeruk['Color'].mode()[0])\n",
        "print(jeruk['Color'])"
      ],
      "metadata": {
        "colab": {
          "base_uri": "https://localhost:8080/"
        },
        "id": "k58mTIC-mEHs",
        "outputId": "97be1e18-b4a8-44f0-97bd-278a755ef8ff"
      },
      "execution_count": 312,
      "outputs": [
        {
          "output_type": "stream",
          "name": "stdout",
          "text": [
            "0            Orange\n",
            "1       Deep Orange\n",
            "2      Light Orange\n",
            "3        Orange-Red\n",
            "4            Orange\n",
            "           ...     \n",
            "236      Orange-Red\n",
            "237    Light Orange\n",
            "238     Deep Orange\n",
            "239    Light Orange\n",
            "240      Orange-Red\n",
            "Name: Color, Length: 241, dtype: object\n"
          ]
        }
      ]
    },
    {
      "cell_type": "code",
      "source": [
        "from sklearn.preprocessing import MinMaxScaler"
      ],
      "metadata": {
        "id": "U87u-xRImNta"
      },
      "execution_count": 313,
      "outputs": []
    },
    {
      "cell_type": "code",
      "source": [
        "scaler = MinMaxScaler()\n",
        "jeruk[['Size (cm)', 'Weight (g)', 'Brix (Sweetness)', 'pH (Acidity)', 'HarvestTime (days)']] = \\\n",
        "    scaler.fit_transform(jeruk[['Size (cm)', 'Weight (g)', 'Brix (Sweetness)', 'pH (Acidity)', 'HarvestTime (days)']])"
      ],
      "metadata": {
        "id": "QrVLQbGumK6R"
      },
      "execution_count": 314,
      "outputs": []
    },
    {
      "cell_type": "code",
      "source": [
        "print(jeruk)"
      ],
      "metadata": {
        "colab": {
          "base_uri": "https://localhost:8080/"
        },
        "id": "357GoVp4mafw",
        "outputId": "c9c1d437-ef8b-4ed8-9867-b83a03f8dd6a"
      },
      "execution_count": 315,
      "outputs": [
        {
          "output_type": "stream",
          "name": "stdout",
          "text": [
            "     Size (cm)  Weight (g)  Brix (Sweetness)  pH (Acidity)  Softness (1-5)  \\\n",
            "0        0.375       0.400          0.619048        0.2500             2.0   \n",
            "1        0.550       0.600          0.476190        0.3750             3.0   \n",
            "2        0.200       0.250          0.809524        0.1250             1.0   \n",
            "3        0.750       0.750          0.285714        0.6250             4.0   \n",
            "4        0.625       0.550          0.571429        0.3125             2.5   \n",
            "..         ...         ...               ...           ...             ...   \n",
            "236      0.500       0.470          0.514286        0.5000             5.0   \n",
            "237      0.350       0.875          0.285714        0.4375             5.0   \n",
            "238      0.375       0.480          0.971429        0.1250             3.0   \n",
            "239      0.300       0.755          0.409524        0.9375             3.0   \n",
            "240      0.325       0.910          0.476190        0.0625             4.0   \n",
            "\n",
            "     HarvestTime (days)  Ripeness (1-5)         Color            Variety  \\\n",
            "0              0.285714             4.0        Orange           Valencia   \n",
            "1              0.476190             4.5   Deep Orange              Navel   \n",
            "2              0.142857             5.0  Light Orange          Cara Cara   \n",
            "3              0.809524             3.5    Orange-Red       Blood Orange   \n",
            "4              0.380952             5.0        Orange             Hamlin   \n",
            "..                  ...             ...           ...                ...   \n",
            "236            0.428571             1.0    Orange-Red          Tangerine   \n",
            "237            0.761905             5.0  Light Orange  Minneola (Hybrid)   \n",
            "238            0.428571             3.0   Deep Orange             Temple   \n",
            "239            0.904762             1.0  Light Orange       Moro (Blood)   \n",
            "240            0.809524             2.0    Orange-Red              Jaffa   \n",
            "\n",
            "             Blemishes (Y/N)  Quality (1-5)  Kepadatan  Manis_Asam  \n",
            "0                          N            4.0  23.999997    3.749999  \n",
            "1                          N            4.5  26.829265    3.088234  \n",
            "2                          N            5.0  22.058820    4.666665  \n",
            "3                          N            3.5  27.777775    2.236842  \n",
            "4                  Y (Minor)            4.5  24.705879    3.484847  \n",
            "..                       ...            ...        ...         ...  \n",
            "236                Y (Scars)            5.0  24.249997    3.027777  \n",
            "237                        N            4.0  37.162157    2.428571  \n",
            "238  Y (Minor Insect Damage)            5.0  26.133330    5.233332  \n",
            "239  Y (Minor Insect Damage)            3.0  34.861106    2.279069  \n",
            "240                Y (Minor)            4.0  38.630132    3.620688  \n",
            "\n",
            "[241 rows x 13 columns]\n"
          ]
        }
      ]
    },
    {
      "cell_type": "markdown",
      "source": [
        "## Membangun Model"
      ],
      "metadata": {
        "id": "IsuiJAnlpAe8"
      }
    },
    {
      "cell_type": "code",
      "source": [
        "from sklearn.model_selection import train_test_split\n",
        "from sklearn.ensemble import RandomForestClassifier\n",
        "from sklearn.metrics import accuracy_score , mean_squared_error\n",
        "from sklearn.preprocessing import StandardScaler"
      ],
      "metadata": {
        "id": "k4PfMwrRpJ7d"
      },
      "execution_count": 316,
      "outputs": []
    },
    {
      "cell_type": "code",
      "source": [
        "categorical_features = ['Color', 'Variety','Blemishes (Y/N)']\n",
        "label_encoder = LabelEncoder()\n",
        "for feature in categorical_features:\n",
        "    jeruk[feature] = label_encoder.fit_transform(jeruk[feature])"
      ],
      "metadata": {
        "id": "r0hUQZTApCZx"
      },
      "execution_count": 317,
      "outputs": []
    },
    {
      "cell_type": "code",
      "source": [
        "X=jeruk.drop('Quality (1-5)',axis=1)\n",
        "y=jeruk['Quality (1-5)']\n",
        "\n",
        "\n",
        "print(\"Type of y:\", type(y))\n",
        "print(\"Unique values in y:\", np.unique(y))"
      ],
      "metadata": {
        "colab": {
          "base_uri": "https://localhost:8080/"
        },
        "id": "0SmKVJeupHiL",
        "outputId": "96fd542b-e70f-475f-86ea-2a9c121f082a"
      },
      "execution_count": 318,
      "outputs": [
        {
          "output_type": "stream",
          "name": "stdout",
          "text": [
            "Type of y: <class 'pandas.core.series.Series'>\n",
            "Unique values in y: [1.  2.  2.5 3.  3.5 4.  4.5 5. ]\n"
          ]
        }
      ]
    },
    {
      "cell_type": "code",
      "source": [
        "thresholds = [1.5,2.5, 3.5, 4.5]\n",
        "\n",
        "y_discrete = np.digitize(y, bins=thresholds)"
      ],
      "metadata": {
        "id": "OJYi7o5gpPMZ"
      },
      "execution_count": 319,
      "outputs": []
    },
    {
      "cell_type": "code",
      "source": [
        "X_train, X_test, y_train, y_test = train_test_split(X, y_discrete, test_size=0.2, random_state=42)"
      ],
      "metadata": {
        "id": "cCJCrEsBp3SM"
      },
      "execution_count": 320,
      "outputs": []
    },
    {
      "cell_type": "code",
      "source": [
        "scaler = StandardScaler()\n",
        "X_train_scaled = scaler.fit_transform(X_train)\n",
        "X_test_scaled = scaler.transform(X_test)"
      ],
      "metadata": {
        "id": "248fnVy2p6HI"
      },
      "execution_count": 321,
      "outputs": []
    },
    {
      "cell_type": "code",
      "source": [
        "random_forest = RandomForestClassifier(n_estimators=100, random_state=42)\n",
        "random_forest.fit(X_train_scaled, y_train)\n",
        "rf_preds = random_forest.predict(X_test_scaled)\n",
        "rf_accuracy = accuracy_score(y_test, rf_preds)\n",
        "mse=mse = mean_squared_error(y_test, rf_preds)** 0.5\n",
        "print(\"Random Forest Accuracy:\", rf_accuracy)\n",
        "print(\"MSE:\", mse)"
      ],
      "metadata": {
        "colab": {
          "base_uri": "https://localhost:8080/"
        },
        "id": "dCVV4Nditd2j",
        "outputId": "c7947f7d-057a-40b2-e86e-8d6a451adf29"
      },
      "execution_count": 322,
      "outputs": [
        {
          "output_type": "stream",
          "name": "stdout",
          "text": [
            "Random Forest Accuracy: 0.7346938775510204\n",
            "MSE: 0.5714285714285714\n"
          ]
        }
      ]
    },
    {
      "cell_type": "code",
      "source": [
        "from sklearn.svm import SVC"
      ],
      "metadata": {
        "id": "WHBh1xZLvSZ0"
      },
      "execution_count": 323,
      "outputs": []
    },
    {
      "cell_type": "code",
      "source": [
        "svm_model = SVC(kernel='rbf', random_state=42)\n",
        "svm_model.fit(X_train_scaled, y_train)\n",
        "svm_preds = svm_model.predict(X_test_scaled)\n",
        "svm_accuracy = accuracy_score(y_test, svm_preds)\n",
        "svm_rmse = mean_squared_error(y_test, svm_preds) ** 0.5"
      ],
      "metadata": {
        "id": "-rgaOkInvTNz"
      },
      "execution_count": 324,
      "outputs": []
    },
    {
      "cell_type": "code",
      "source": [
        "print(\"SVM Accuracy:\", svm_accuracy)\n",
        "print(\"SVM RMSE:\", svm_rmse)"
      ],
      "metadata": {
        "colab": {
          "base_uri": "https://localhost:8080/"
        },
        "id": "Q1j9opYlvZ5w",
        "outputId": "1d4bdbcb-0668-4f67-fbba-49bfa7bcd7b4"
      },
      "execution_count": 325,
      "outputs": [
        {
          "output_type": "stream",
          "name": "stdout",
          "text": [
            "SVM Accuracy: 0.6938775510204082\n",
            "SVM RMSE: 0.7423074889580902\n"
          ]
        }
      ]
    },
    {
      "cell_type": "code",
      "source": [
        "from sklearn.neural_network import MLPClassifier"
      ],
      "metadata": {
        "id": "uNCMK6JcvdaL"
      },
      "execution_count": 326,
      "outputs": []
    },
    {
      "cell_type": "code",
      "source": [
        "nn_model = MLPClassifier(hidden_layer_sizes=(100,), max_iter=500, random_state=42)\n",
        "nn_model.fit(X_train_scaled, y_train)\n",
        "nn_preds = nn_model.predict(X_test_scaled)\n",
        "nn_accuracy = accuracy_score(y_test, nn_preds)\n",
        "nn_rmse = mean_squared_error(y_test, nn_preds) ** 0.5"
      ],
      "metadata": {
        "colab": {
          "base_uri": "https://localhost:8080/"
        },
        "id": "ysRcu224veOf",
        "outputId": "5cd9cfe6-22d2-44ca-ea88-d0cd7fe2d198"
      },
      "execution_count": 327,
      "outputs": [
        {
          "output_type": "stream",
          "name": "stderr",
          "text": [
            "/usr/local/lib/python3.10/dist-packages/sklearn/neural_network/_multilayer_perceptron.py:690: ConvergenceWarning: Stochastic Optimizer: Maximum iterations (500) reached and the optimization hasn't converged yet.\n",
            "  warnings.warn(\n"
          ]
        }
      ]
    },
    {
      "cell_type": "code",
      "source": [
        "print(\"Neural Network Accuracy:\", nn_accuracy)\n",
        "print(\"Neural Network RMSE:\", nn_rmse)"
      ],
      "metadata": {
        "colab": {
          "base_uri": "https://localhost:8080/"
        },
        "id": "ejBU0KCLvf2G",
        "outputId": "01d33d81-6e4a-462c-802a-45c1ab1ec3c7"
      },
      "execution_count": 328,
      "outputs": [
        {
          "output_type": "stream",
          "name": "stdout",
          "text": [
            "Neural Network Accuracy: 0.6122448979591837\n",
            "Neural Network RMSE: 0.7142857142857143\n"
          ]
        }
      ]
    },
    {
      "cell_type": "code",
      "source": [
        "from sklearn.naive_bayes import GaussianNB"
      ],
      "metadata": {
        "id": "OYE8Vpa3vjHn"
      },
      "execution_count": 329,
      "outputs": []
    },
    {
      "cell_type": "code",
      "source": [
        "nb_model = GaussianNB()\n",
        "nb_model.fit(X_train_scaled, y_train)\n",
        "nb_preds = nb_model.predict(X_test_scaled)\n",
        "nb_accuracy = accuracy_score(y_test, nb_preds)\n",
        "nb_rmse = mean_squared_error(y_test, nb_preds) ** 0.5"
      ],
      "metadata": {
        "id": "QyRVAshZvju9"
      },
      "execution_count": 330,
      "outputs": []
    },
    {
      "cell_type": "code",
      "source": [
        "print(\"Naive Bayes Accuracy:\", nb_accuracy)\n",
        "print(\"Naive Bayes RMSE:\", nb_rmse)"
      ],
      "metadata": {
        "colab": {
          "base_uri": "https://localhost:8080/"
        },
        "id": "SjDu5UQ8vl5G",
        "outputId": "95a00f34-f75c-49bc-b158-c7ba2843d90e"
      },
      "execution_count": 331,
      "outputs": [
        {
          "output_type": "stream",
          "name": "stdout",
          "text": [
            "Naive Bayes Accuracy: 0.5510204081632653\n",
            "Naive Bayes RMSE: 0.8921425711997711\n"
          ]
        }
      ]
    }
  ]
}